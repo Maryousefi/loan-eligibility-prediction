{
  "cells": [
    {
      "cell_type": "markdown",
      "id": "ee997dcb",
      "metadata": {
        "id": "ee997dcb"
      },
      "source": [
        "#  پیش‌بینی تایید وام با استفاده از یادگیری ماشین"
      ]
    },
    {
      "cell_type": "code",
      "execution_count": 2,
      "id": "lvh45oDykkMr",
      "metadata": {
        "id": "lvh45oDykkMr"
      },
      "outputs": [],
      "source": [
        "import pandas as pd\n",
        "import numpy as np\n",
        "import seaborn as sns\n",
        "import matplotlib.pyplot as plt\n",
        "from sklearn.model_selection import train_test_split, GridSearchCV\n",
        "from sklearn.preprocessing import LabelEncoder, StandardScaler\n",
        "from sklearn.impute import SimpleImputer\n",
        "from sklearn.linear_model import LogisticRegression\n",
        "from sklearn.neighbors import KNeighborsClassifier\n",
        "from sklearn.neural_network import MLPClassifier\n",
        "from sklearn.model_selection import GridSearchCV\n",
        "from sklearn.metrics import classification_report, accuracy_score, f1_score, confusion_matrix\n",
        "from imblearn.over_sampling import SMOTE\n",
        "from google.colab import files\n"
      ]
    },
    {
      "cell_type": "code",
      "execution_count": 3,
      "id": "Ozvls7VUknWG",
      "metadata": {
        "colab": {
          "base_uri": "https://localhost:8080/",
          "height": 78
        },
        "id": "Ozvls7VUknWG",
        "outputId": "fc0afeb7-046c-4fb3-a764-0eeb23f60d7a"
      },
      "outputs": [
        {
          "output_type": "display_data",
          "data": {
            "text/plain": [
              "<IPython.core.display.HTML object>"
            ],
            "text/html": [
              "\n",
              "     <input type=\"file\" id=\"files-3cf06ac6-ee3f-4e15-bddb-2974508759ab\" name=\"files[]\" multiple disabled\n",
              "        style=\"border:none\" />\n",
              "     <output id=\"result-3cf06ac6-ee3f-4e15-bddb-2974508759ab\">\n",
              "      Upload widget is only available when the cell has been executed in the\n",
              "      current browser session. Please rerun this cell to enable.\n",
              "      </output>\n",
              "      <script>// Copyright 2017 Google LLC\n",
              "//\n",
              "// Licensed under the Apache License, Version 2.0 (the \"License\");\n",
              "// you may not use this file except in compliance with the License.\n",
              "// You may obtain a copy of the License at\n",
              "//\n",
              "//      http://www.apache.org/licenses/LICENSE-2.0\n",
              "//\n",
              "// Unless required by applicable law or agreed to in writing, software\n",
              "// distributed under the License is distributed on an \"AS IS\" BASIS,\n",
              "// WITHOUT WARRANTIES OR CONDITIONS OF ANY KIND, either express or implied.\n",
              "// See the License for the specific language governing permissions and\n",
              "// limitations under the License.\n",
              "\n",
              "/**\n",
              " * @fileoverview Helpers for google.colab Python module.\n",
              " */\n",
              "(function(scope) {\n",
              "function span(text, styleAttributes = {}) {\n",
              "  const element = document.createElement('span');\n",
              "  element.textContent = text;\n",
              "  for (const key of Object.keys(styleAttributes)) {\n",
              "    element.style[key] = styleAttributes[key];\n",
              "  }\n",
              "  return element;\n",
              "}\n",
              "\n",
              "// Max number of bytes which will be uploaded at a time.\n",
              "const MAX_PAYLOAD_SIZE = 100 * 1024;\n",
              "\n",
              "function _uploadFiles(inputId, outputId) {\n",
              "  const steps = uploadFilesStep(inputId, outputId);\n",
              "  const outputElement = document.getElementById(outputId);\n",
              "  // Cache steps on the outputElement to make it available for the next call\n",
              "  // to uploadFilesContinue from Python.\n",
              "  outputElement.steps = steps;\n",
              "\n",
              "  return _uploadFilesContinue(outputId);\n",
              "}\n",
              "\n",
              "// This is roughly an async generator (not supported in the browser yet),\n",
              "// where there are multiple asynchronous steps and the Python side is going\n",
              "// to poll for completion of each step.\n",
              "// This uses a Promise to block the python side on completion of each step,\n",
              "// then passes the result of the previous step as the input to the next step.\n",
              "function _uploadFilesContinue(outputId) {\n",
              "  const outputElement = document.getElementById(outputId);\n",
              "  const steps = outputElement.steps;\n",
              "\n",
              "  const next = steps.next(outputElement.lastPromiseValue);\n",
              "  return Promise.resolve(next.value.promise).then((value) => {\n",
              "    // Cache the last promise value to make it available to the next\n",
              "    // step of the generator.\n",
              "    outputElement.lastPromiseValue = value;\n",
              "    return next.value.response;\n",
              "  });\n",
              "}\n",
              "\n",
              "/**\n",
              " * Generator function which is called between each async step of the upload\n",
              " * process.\n",
              " * @param {string} inputId Element ID of the input file picker element.\n",
              " * @param {string} outputId Element ID of the output display.\n",
              " * @return {!Iterable<!Object>} Iterable of next steps.\n",
              " */\n",
              "function* uploadFilesStep(inputId, outputId) {\n",
              "  const inputElement = document.getElementById(inputId);\n",
              "  inputElement.disabled = false;\n",
              "\n",
              "  const outputElement = document.getElementById(outputId);\n",
              "  outputElement.innerHTML = '';\n",
              "\n",
              "  const pickedPromise = new Promise((resolve) => {\n",
              "    inputElement.addEventListener('change', (e) => {\n",
              "      resolve(e.target.files);\n",
              "    });\n",
              "  });\n",
              "\n",
              "  const cancel = document.createElement('button');\n",
              "  inputElement.parentElement.appendChild(cancel);\n",
              "  cancel.textContent = 'Cancel upload';\n",
              "  const cancelPromise = new Promise((resolve) => {\n",
              "    cancel.onclick = () => {\n",
              "      resolve(null);\n",
              "    };\n",
              "  });\n",
              "\n",
              "  // Wait for the user to pick the files.\n",
              "  const files = yield {\n",
              "    promise: Promise.race([pickedPromise, cancelPromise]),\n",
              "    response: {\n",
              "      action: 'starting',\n",
              "    }\n",
              "  };\n",
              "\n",
              "  cancel.remove();\n",
              "\n",
              "  // Disable the input element since further picks are not allowed.\n",
              "  inputElement.disabled = true;\n",
              "\n",
              "  if (!files) {\n",
              "    return {\n",
              "      response: {\n",
              "        action: 'complete',\n",
              "      }\n",
              "    };\n",
              "  }\n",
              "\n",
              "  for (const file of files) {\n",
              "    const li = document.createElement('li');\n",
              "    li.append(span(file.name, {fontWeight: 'bold'}));\n",
              "    li.append(span(\n",
              "        `(${file.type || 'n/a'}) - ${file.size} bytes, ` +\n",
              "        `last modified: ${\n",
              "            file.lastModifiedDate ? file.lastModifiedDate.toLocaleDateString() :\n",
              "                                    'n/a'} - `));\n",
              "    const percent = span('0% done');\n",
              "    li.appendChild(percent);\n",
              "\n",
              "    outputElement.appendChild(li);\n",
              "\n",
              "    const fileDataPromise = new Promise((resolve) => {\n",
              "      const reader = new FileReader();\n",
              "      reader.onload = (e) => {\n",
              "        resolve(e.target.result);\n",
              "      };\n",
              "      reader.readAsArrayBuffer(file);\n",
              "    });\n",
              "    // Wait for the data to be ready.\n",
              "    let fileData = yield {\n",
              "      promise: fileDataPromise,\n",
              "      response: {\n",
              "        action: 'continue',\n",
              "      }\n",
              "    };\n",
              "\n",
              "    // Use a chunked sending to avoid message size limits. See b/62115660.\n",
              "    let position = 0;\n",
              "    do {\n",
              "      const length = Math.min(fileData.byteLength - position, MAX_PAYLOAD_SIZE);\n",
              "      const chunk = new Uint8Array(fileData, position, length);\n",
              "      position += length;\n",
              "\n",
              "      const base64 = btoa(String.fromCharCode.apply(null, chunk));\n",
              "      yield {\n",
              "        response: {\n",
              "          action: 'append',\n",
              "          file: file.name,\n",
              "          data: base64,\n",
              "        },\n",
              "      };\n",
              "\n",
              "      let percentDone = fileData.byteLength === 0 ?\n",
              "          100 :\n",
              "          Math.round((position / fileData.byteLength) * 100);\n",
              "      percent.textContent = `${percentDone}% done`;\n",
              "\n",
              "    } while (position < fileData.byteLength);\n",
              "  }\n",
              "\n",
              "  // All done.\n",
              "  yield {\n",
              "    response: {\n",
              "      action: 'complete',\n",
              "    }\n",
              "  };\n",
              "}\n",
              "\n",
              "scope.google = scope.google || {};\n",
              "scope.google.colab = scope.google.colab || {};\n",
              "scope.google.colab._files = {\n",
              "  _uploadFiles,\n",
              "  _uploadFilesContinue,\n",
              "};\n",
              "})(self);\n",
              "</script> "
            ]
          },
          "metadata": {}
        },
        {
          "output_type": "stream",
          "name": "stdout",
          "text": [
            "Saving loan.csv to loan (2).csv\n"
          ]
        }
      ],
      "source": [
        "#Upload and Load Data\n",
        "uploaded = files.upload()\n",
        "df = pd.read_csv('loan.csv')"
      ]
    },
    {
      "cell_type": "code",
      "execution_count": 4,
      "id": "wsPqOKCXkqjT",
      "metadata": {
        "id": "wsPqOKCXkqjT"
      },
      "outputs": [],
      "source": [
        "# Handle Missing Values\n",
        "cat_cols = df.select_dtypes(include='object').columns.tolist()\n",
        "num_cols = df.select_dtypes(include=['int64', 'float64']).columns.tolist()\n",
        "\n",
        "if cat_cols:\n",
        "    imputer_cat = SimpleImputer(strategy='most_frequent')\n",
        "    df[cat_cols] = imputer_cat.fit_transform(df[cat_cols])\n",
        "\n",
        "if num_cols:\n",
        "    imputer_num = SimpleImputer(strategy='mean')\n",
        "    df[num_cols] = imputer_num.fit_transform(df[num_cols])\n"
      ]
    },
    {
      "cell_type": "code",
      "execution_count": 5,
      "id": "AovGiRWmkupC",
      "metadata": {
        "id": "AovGiRWmkupC"
      },
      "outputs": [],
      "source": [
        "# Encode Categorical Columns\n",
        "le = LabelEncoder()\n",
        "for col in cat_cols:\n",
        "    df[col] = le.fit_transform(df[col])\n"
      ]
    },
    {
      "cell_type": "code",
      "execution_count": 6,
      "id": "hyDnol10kzFs",
      "metadata": {
        "id": "hyDnol10kzFs"
      },
      "outputs": [],
      "source": [
        "# Feature Engineering\n",
        "df['Total_Income'] = df['ApplicantIncome'] + df['CoapplicantIncome']\n",
        "df['Loan_Amount_Income_Ratio'] = df['LoanAmount'] / (df['Total_Income'] + 1)\n",
        "df['EMI'] = df['LoanAmount'] / (df['Loan_Amount_Term'] + 1)\n",
        "df['Total_Payment'] = df['EMI'] * df['Loan_Amount_Term']"
      ]
    },
    {
      "cell_type": "code",
      "execution_count": 7,
      "id": "GuS4Fy-Ik2e3",
      "metadata": {
        "id": "GuS4Fy-Ik2e3"
      },
      "outputs": [],
      "source": [
        "# Separate Features and Labels\n",
        "X = df.drop('Loan_Status', axis=1)\n",
        "y = df['Loan_Status']\n"
      ]
    },
    {
      "cell_type": "code",
      "execution_count": 8,
      "id": "UgW9OMmKk_cF",
      "metadata": {
        "id": "UgW9OMmKk_cF"
      },
      "outputs": [],
      "source": [
        "# Update numerical columns\n",
        "num_cols = X.select_dtypes(include=['int64', 'float64']).columns.tolist()\n"
      ]
    },
    {
      "cell_type": "code",
      "execution_count": 9,
      "id": "ypBu8UsclCz_",
      "metadata": {
        "id": "ypBu8UsclCz_"
      },
      "outputs": [],
      "source": [
        "\n",
        "# Split Dataset\n",
        "X_train_val, X_test, y_train_val, y_test = train_test_split(X, y, test_size=0.15, stratify=y, random_state=42)\n",
        "X_train, X_val, y_train, y_val = train_test_split(X_train_val, y_train_val, test_size=0.2353, stratify=y_train_val, random_state=42)\n"
      ]
    },
    {
      "cell_type": "code",
      "execution_count": 10,
      "id": "AZq2xCkYlF42",
      "metadata": {
        "id": "AZq2xCkYlF42"
      },
      "outputs": [],
      "source": [
        "# Standardization\n",
        "scaler = StandardScaler()\n",
        "X_train_scaled = X_train.copy()\n",
        "X_val_scaled = X_val.copy()\n",
        "X_test_scaled = X_test.copy()\n",
        "\n",
        "X_train_scaled[num_cols] = scaler.fit_transform(X_train[num_cols])\n",
        "X_val_scaled[num_cols] = scaler.transform(X_val[num_cols])\n",
        "X_test_scaled[num_cols] = scaler.transform(X_test[num_cols])\n"
      ]
    },
    {
      "cell_type": "code",
      "execution_count": 11,
      "id": "YVdK-4C_lI6m",
      "metadata": {
        "id": "YVdK-4C_lI6m"
      },
      "outputs": [],
      "source": [
        "# Balance with SMOTE\n",
        "sm = SMOTE(random_state=42)\n",
        "X_resampled, y_resampled = sm.fit_resample(X_train_scaled, y_train)\n"
      ]
    },
    {
      "cell_type": "code",
      "execution_count": 12,
      "id": "371K71RalMsg",
      "metadata": {
        "id": "371K71RalMsg"
      },
      "outputs": [],
      "source": [
        "# GridSearch for KNN\n",
        "knn_grid = {\n",
        "    'n_neighbors': [3, 5, 7, 9],\n",
        "    'weights': ['uniform', 'distance']\n",
        "}\n",
        "knn_search = GridSearchCV(KNeighborsClassifier(), knn_grid, cv=5, scoring='f1')\n",
        "knn_search.fit(X_resampled, y_resampled)\n",
        "best_knn = knn_search.best_estimator_\n"
      ]
    },
    {
      "cell_type": "code",
      "execution_count": 13,
      "id": "KSfFrva2lQk-",
      "metadata": {
        "id": "KSfFrva2lQk-"
      },
      "outputs": [],
      "source": [
        "# GridSearch for ANN\n",
        "ann_grid = {\n",
        "    'hidden_layer_sizes': [(10,), (10,10), (20,10)],\n",
        "    'activation': ['relu', 'tanh'],\n",
        "    'solver': ['adam', 'lbfgs'],   # اضافه شده\n",
        "    'max_iter': [1500],            # افزایش تکرار\n",
        "    'early_stopping': [True]       # فعال شدن توقف زودهنگام\n",
        "}\n",
        "ann_search = GridSearchCV(MLPClassifier(random_state=42), ann_grid, cv=3, scoring='f1')\n",
        "ann_search.fit(X_resampled, y_resampled)\n",
        "best_ann = ann_search.best_estimator_\n"
      ]
    },
    {
      "cell_type": "code",
      "execution_count": 14,
      "id": "kuPMFSsrlUaS",
      "metadata": {
        "colab": {
          "base_uri": "https://localhost:8080/",
          "height": 1000
        },
        "id": "kuPMFSsrlUaS",
        "outputId": "947759d6-9957-4533-cb78-4e43a899cf73"
      },
      "outputs": [
        {
          "output_type": "stream",
          "name": "stdout",
          "text": [
            "\n",
            "===== Logistic Regression =====\n",
            "Validation Report:\n",
            "               precision    recall  f1-score   support\n",
            "\n",
            "           0       0.55      0.58      0.56        38\n",
            "           1       0.81      0.79      0.80        85\n",
            "\n",
            "    accuracy                           0.72       123\n",
            "   macro avg       0.68      0.68      0.68       123\n",
            "weighted avg       0.73      0.72      0.73       123\n",
            "\n",
            "Test Report:\n",
            "               precision    recall  f1-score   support\n",
            "\n",
            "           0       0.74      0.69      0.71        29\n",
            "           1       0.86      0.89      0.88        64\n",
            "\n",
            "    accuracy                           0.83        93\n",
            "   macro avg       0.80      0.79      0.80        93\n",
            "weighted avg       0.83      0.83      0.83        93\n",
            "\n"
          ]
        },
        {
          "output_type": "display_data",
          "data": {
            "text/plain": [
              "<Figure size 400x300 with 1 Axes>"
            ],
            "image/png": "[encoded data removed]"
          },
          "metadata": {}
        },
        {
          "output_type": "stream",
          "name": "stdout",
          "text": [
            "\n",
            "===== KNN (Tuned) =====\n",
            "Validation Report:\n",
            "               precision    recall  f1-score   support\n",
            "\n",
            "           0       0.51      0.50      0.51        38\n",
            "           1       0.78      0.79      0.78        85\n",
            "\n",
            "    accuracy                           0.70       123\n",
            "   macro avg       0.65      0.64      0.65       123\n",
            "weighted avg       0.70      0.70      0.70       123\n",
            "\n",
            "Test Report:\n",
            "               precision    recall  f1-score   support\n",
            "\n",
            "           0       0.61      0.66      0.63        29\n",
            "           1       0.84      0.81      0.83        64\n",
            "\n",
            "    accuracy                           0.76        93\n",
            "   macro avg       0.73      0.73      0.73        93\n",
            "weighted avg       0.77      0.76      0.77        93\n",
            "\n"
          ]
        },
        {
          "output_type": "display_data",
          "data": {
            "text/plain": [
              "<Figure size 400x300 with 1 Axes>"
            ],
            "image/png": "[encoded data removed]"
          },
          "metadata": {}
        },
        {
          "output_type": "stream",
          "name": "stdout",
          "text": [
            "\n",
            "===== ANN (Tuned) =====\n",
            "Validation Report:\n",
            "               precision    recall  f1-score   support\n",
            "\n",
            "           0       0.49      0.50      0.49        38\n",
            "           1       0.77      0.76      0.77        85\n",
            "\n",
            "    accuracy                           0.68       123\n",
            "   macro avg       0.63      0.63      0.63       123\n",
            "weighted avg       0.69      0.68      0.68       123\n",
            "\n",
            "Test Report:\n",
            "               precision    recall  f1-score   support\n",
            "\n",
            "           0       0.57      0.59      0.58        29\n",
            "           1       0.81      0.80      0.80        64\n",
            "\n",
            "    accuracy                           0.73        93\n",
            "   macro avg       0.69      0.69      0.69        93\n",
            "weighted avg       0.73      0.73      0.73        93\n",
            "\n"
          ]
        },
        {
          "output_type": "display_data",
          "data": {
            "text/plain": [
              "<Figure size 400x300 with 1 Axes>"
            ],
            "image/png": "[encoded data removed]"
          },
          "metadata": {}
        }
      ],
      "source": [
        "# Define Models\n",
        "models = {\n",
        "    \"Logistic Regression\": LogisticRegression(max_iter=1000),\n",
        "    \"KNN (Tuned)\": best_knn,\n",
        "    \"ANN (Tuned)\": best_ann\n",
        "}\n",
        "\n",
        "# Evaluation Results\n",
        "results = {\n",
        "    'Model': [],\n",
        "    'Set': [],\n",
        "    'Accuracy': [],\n",
        "    'F1 Score': []\n",
        "}\n",
        "\n",
        "# Train and Evaluate\n",
        "for name, model in models.items():\n",
        "    model.fit(X_resampled, y_resampled)\n",
        "\n",
        "    val_preds = model.predict(X_val_scaled)\n",
        "    results['Model'].append(name)\n",
        "    results['Set'].append('Validation')\n",
        "    results['Accuracy'].append(accuracy_score(y_val, val_preds))\n",
        "    results['F1 Score'].append(f1_score(y_val, val_preds))\n",
        "\n",
        "    test_preds = model.predict(X_test_scaled)\n",
        "    results['Model'].append(name)\n",
        "    results['Set'].append('Test')\n",
        "    results['Accuracy'].append(accuracy_score(y_test, test_preds))\n",
        "    results['F1 Score'].append(f1_score(y_test, test_preds))\n",
        "\n",
        "    print(f\"\\n===== {name} =====\")\n",
        "    print(\"Validation Report:\\n\", classification_report(y_val, val_preds))\n",
        "    print(\"Test Report:\\n\", classification_report(y_test, test_preds))\n",
        "\n",
        "    cm = confusion_matrix(y_test, test_preds)\n",
        "    plt.figure(figsize=(4, 3))\n",
        "    sns.heatmap(cm, annot=True, fmt='d', cmap='Blues', cbar=False)\n",
        "    plt.title(f'Confusion Matrix - {name} (Test)')\n",
        "    plt.xlabel('Predicted')\n",
        "    plt.ylabel('Actual')\n",
        "    plt.show()\n",
        "results_df = pd.DataFrame(results)"
      ]
    },
    {
      "cell_type": "code",
      "execution_count": 15,
      "id": "HbVZkbAvlbWD",
      "metadata": {
        "colab": {
          "base_uri": "https://localhost:8080/",
          "height": 607
        },
        "id": "HbVZkbAvlbWD",
        "outputId": "7dbd9c23-770d-4550-8d3c-f364cf93ea3b"
      },
      "outputs": [
        {
          "output_type": "display_data",
          "data": {
            "text/plain": [
              "<Figure size 1200x600 with 2 Axes>"
            ],
            "image/png": "[encoded data removed]"
          },
          "metadata": {}
        }
      ],
      "source": [
        "# Plot Accuracy & F1-score Comparison\n",
        "plt.figure(figsize=(12, 6))\n",
        "plt.subplot(1, 2, 1)\n",
        "sns.barplot(data=results_df, x='Model', y='Accuracy', hue='Set', palette='Set2')\n",
        "plt.title('Accuracy Comparison')\n",
        "plt.ylim(0.6, 1.0)\n",
        "plt.xticks(rotation=15)\n",
        "\n",
        "plt.subplot(1, 2, 2)\n",
        "sns.barplot(data=results_df, x='Model', y='F1 Score', hue='Set', palette='Set1')\n",
        "plt.title('F1 Score Comparison')\n",
        "plt.ylim(0.6, 1.0)\n",
        "plt.xticks(rotation=15)\n",
        "\n",
        "plt.tight_layout()\n",
        "plt.show()\n"
      ]
    }
  ],
  "metadata": {
    "colab": {
      "provenance": []
    },
    "kernelspec": {
      "display_name": "Python 3",
      "name": "python3"
    },
    "language_info": {
      "name": "python"
    }
  },
  "nbformat": 4,
  "nbformat_minor": 5
}